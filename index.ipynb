{
 "cells": [
  {
   "cell_type": "markdown",
   "metadata": {},
   "source": [
    "# Exploring Your Data - Lab\n",
    "\n",
    "## Introduction \n",
    "\n",
    "In this lab you'll perform an exploratory data analysis task, using statistical and visual EDA skills. You'll continue using the Lego dataset that you've acquired and cleaned in the previous labs. \n",
    "\n",
    "## Objectives\n",
    "You will be able to:\n",
    "\n",
    "* Check the distribution of various columns\n",
    "* Examine the descriptive statistics of our dataset\n",
    "* Create visualizations to help us better understand our dataset\n",
    "\n",
    "## Data Exploration\n",
    "\n",
    "At this point, you've already done a modest amount of data exploration between investigating the initial dataset to further exploring individual features while cleaning things up in preparation for modeling. During this process, you've become more familiar with the particular idiosyncrasies of the dataset. This gives you an opportunity to uncover difficulties and potential pitfalls in working with the dataset as well as potential avenues for feature engineering that could improve the predictive performance of your model down the line. Remember that this is also not a linear process; after building an initial model, you might go back and continue to mine the dataset for potential inroads to create additional features and improve the model's performance if initial results did not satisfy your needs and expectations. Here, you'll continue this process, investigating the distributions of some of the various features and their relationship to the target variable: `list_price`."
   ]
  },
  {
   "cell_type": "markdown",
   "metadata": {},
   "source": [
    "In the cells below: \n",
    "\n",
    "* Import `pandas` and set the standard alias. \n",
    "* Import `numpy` and set the standard alias. \n",
    "* Import `matplotlib.pyplot` and set the standard alias. \n",
    "* Import `seaborn` and set the alias `sns` (this is the standard alias for seaborn). \n",
    "* Use the ipython magic command to set all matplotlib visualizations to display inline in the notebook. \n",
    "* Load the dataset stored in the `'Lego_data_cleaned.csv'` file into a DataFrame, `df`. \n",
    "* Inspect the head of the DataFrame to ensure everything loaded correctly. "
   ]
  },
  {
   "cell_type": "code",
   "execution_count": 5,
   "metadata": {},
   "outputs": [
    {
     "data": {
      "text/html": [
       "<div>\n",
       "<style scoped>\n",
       "    .dataframe tbody tr th:only-of-type {\n",
       "        vertical-align: middle;\n",
       "    }\n",
       "\n",
       "    .dataframe tbody tr th {\n",
       "        vertical-align: top;\n",
       "    }\n",
       "\n",
       "    .dataframe thead th {\n",
       "        text-align: right;\n",
       "    }\n",
       "</style>\n",
       "<table border=\"1\" class=\"dataframe\">\n",
       "  <thead>\n",
       "    <tr style=\"text-align: right;\">\n",
       "      <th></th>\n",
       "      <th>piece_count</th>\n",
       "      <th>list_price</th>\n",
       "      <th>num_reviews</th>\n",
       "      <th>play_star_rating</th>\n",
       "      <th>star_rating</th>\n",
       "      <th>val_star_rating</th>\n",
       "      <th>ages_10+</th>\n",
       "      <th>ages_10-14</th>\n",
       "      <th>ages_10-16</th>\n",
       "      <th>ages_10-21</th>\n",
       "      <th>...</th>\n",
       "      <th>country_NZ</th>\n",
       "      <th>country_PL</th>\n",
       "      <th>country_PT</th>\n",
       "      <th>country_US</th>\n",
       "      <th>review_difficulty_Average</th>\n",
       "      <th>review_difficulty_Challenging</th>\n",
       "      <th>review_difficulty_Easy</th>\n",
       "      <th>review_difficulty_Very Challenging</th>\n",
       "      <th>review_difficulty_Very Easy</th>\n",
       "      <th>review_difficulty_unknown</th>\n",
       "    </tr>\n",
       "  </thead>\n",
       "  <tbody>\n",
       "    <tr>\n",
       "      <th>0</th>\n",
       "      <td>-0.273020</td>\n",
       "      <td>29.99</td>\n",
       "      <td>-0.398512</td>\n",
       "      <td>-0.655279</td>\n",
       "      <td>-0.045687</td>\n",
       "      <td>-0.365010</td>\n",
       "      <td>0</td>\n",
       "      <td>0</td>\n",
       "      <td>0</td>\n",
       "      <td>0</td>\n",
       "      <td>...</td>\n",
       "      <td>0</td>\n",
       "      <td>0</td>\n",
       "      <td>0</td>\n",
       "      <td>1</td>\n",
       "      <td>1</td>\n",
       "      <td>0</td>\n",
       "      <td>0</td>\n",
       "      <td>0</td>\n",
       "      <td>0</td>\n",
       "      <td>0</td>\n",
       "    </tr>\n",
       "    <tr>\n",
       "      <th>1</th>\n",
       "      <td>-0.404154</td>\n",
       "      <td>19.99</td>\n",
       "      <td>-0.398512</td>\n",
       "      <td>-0.655279</td>\n",
       "      <td>0.990651</td>\n",
       "      <td>-0.365010</td>\n",
       "      <td>0</td>\n",
       "      <td>0</td>\n",
       "      <td>0</td>\n",
       "      <td>0</td>\n",
       "      <td>...</td>\n",
       "      <td>0</td>\n",
       "      <td>0</td>\n",
       "      <td>0</td>\n",
       "      <td>1</td>\n",
       "      <td>0</td>\n",
       "      <td>0</td>\n",
       "      <td>1</td>\n",
       "      <td>0</td>\n",
       "      <td>0</td>\n",
       "      <td>0</td>\n",
       "    </tr>\n",
       "    <tr>\n",
       "      <th>2</th>\n",
       "      <td>-0.517242</td>\n",
       "      <td>12.99</td>\n",
       "      <td>-0.147162</td>\n",
       "      <td>-0.132473</td>\n",
       "      <td>-0.460222</td>\n",
       "      <td>-0.204063</td>\n",
       "      <td>0</td>\n",
       "      <td>0</td>\n",
       "      <td>0</td>\n",
       "      <td>0</td>\n",
       "      <td>...</td>\n",
       "      <td>0</td>\n",
       "      <td>0</td>\n",
       "      <td>0</td>\n",
       "      <td>1</td>\n",
       "      <td>0</td>\n",
       "      <td>0</td>\n",
       "      <td>1</td>\n",
       "      <td>0</td>\n",
       "      <td>0</td>\n",
       "      <td>0</td>\n",
       "    </tr>\n",
       "    <tr>\n",
       "      <th>3</th>\n",
       "      <td>0.635296</td>\n",
       "      <td>99.99</td>\n",
       "      <td>0.187972</td>\n",
       "      <td>-1.352353</td>\n",
       "      <td>0.161581</td>\n",
       "      <td>0.117830</td>\n",
       "      <td>0</td>\n",
       "      <td>0</td>\n",
       "      <td>0</td>\n",
       "      <td>0</td>\n",
       "      <td>...</td>\n",
       "      <td>0</td>\n",
       "      <td>0</td>\n",
       "      <td>0</td>\n",
       "      <td>1</td>\n",
       "      <td>1</td>\n",
       "      <td>0</td>\n",
       "      <td>0</td>\n",
       "      <td>0</td>\n",
       "      <td>0</td>\n",
       "      <td>0</td>\n",
       "    </tr>\n",
       "    <tr>\n",
       "      <th>4</th>\n",
       "      <td>0.288812</td>\n",
       "      <td>79.99</td>\n",
       "      <td>-0.063378</td>\n",
       "      <td>-2.049427</td>\n",
       "      <td>0.161581</td>\n",
       "      <td>-0.204063</td>\n",
       "      <td>0</td>\n",
       "      <td>0</td>\n",
       "      <td>0</td>\n",
       "      <td>0</td>\n",
       "      <td>...</td>\n",
       "      <td>0</td>\n",
       "      <td>0</td>\n",
       "      <td>0</td>\n",
       "      <td>1</td>\n",
       "      <td>0</td>\n",
       "      <td>1</td>\n",
       "      <td>0</td>\n",
       "      <td>0</td>\n",
       "      <td>0</td>\n",
       "      <td>0</td>\n",
       "    </tr>\n",
       "  </tbody>\n",
       "</table>\n",
       "<p>5 rows × 103 columns</p>\n",
       "</div>"
      ],
      "text/plain": [
       "   piece_count  list_price  num_reviews  play_star_rating  star_rating  \\\n",
       "0    -0.273020       29.99    -0.398512         -0.655279    -0.045687   \n",
       "1    -0.404154       19.99    -0.398512         -0.655279     0.990651   \n",
       "2    -0.517242       12.99    -0.147162         -0.132473    -0.460222   \n",
       "3     0.635296       99.99     0.187972         -1.352353     0.161581   \n",
       "4     0.288812       79.99    -0.063378         -2.049427     0.161581   \n",
       "\n",
       "   val_star_rating  ages_10+  ages_10-14  ages_10-16  ages_10-21  \\\n",
       "0        -0.365010         0           0           0           0   \n",
       "1        -0.365010         0           0           0           0   \n",
       "2        -0.204063         0           0           0           0   \n",
       "3         0.117830         0           0           0           0   \n",
       "4        -0.204063         0           0           0           0   \n",
       "\n",
       "             ...              country_NZ  country_PL  country_PT  country_US  \\\n",
       "0            ...                       0           0           0           1   \n",
       "1            ...                       0           0           0           1   \n",
       "2            ...                       0           0           0           1   \n",
       "3            ...                       0           0           0           1   \n",
       "4            ...                       0           0           0           1   \n",
       "\n",
       "   review_difficulty_Average  review_difficulty_Challenging  \\\n",
       "0                          1                              0   \n",
       "1                          0                              0   \n",
       "2                          0                              0   \n",
       "3                          1                              0   \n",
       "4                          0                              1   \n",
       "\n",
       "   review_difficulty_Easy  review_difficulty_Very Challenging  \\\n",
       "0                       0                                   0   \n",
       "1                       1                                   0   \n",
       "2                       1                                   0   \n",
       "3                       0                                   0   \n",
       "4                       0                                   0   \n",
       "\n",
       "   review_difficulty_Very Easy  review_difficulty_unknown  \n",
       "0                            0                          0  \n",
       "1                            0                          0  \n",
       "2                            0                          0  \n",
       "3                            0                          0  \n",
       "4                            0                          0  \n",
       "\n",
       "[5 rows x 103 columns]"
      ]
     },
     "execution_count": 5,
     "metadata": {},
     "output_type": "execute_result"
    }
   ],
   "source": [
    "import pandas as pd\n",
    "import numpy as np\n",
    "import matplotlib.pyplot as plt\n",
    "%matplotlib inline\n",
    "import seaborn as sns\n",
    "\n",
    "df = pd.read_csv('Lego_dataset_cleaned.csv')\n",
    "df.head()"
   ]
  },
  {
   "cell_type": "markdown",
   "metadata": {},
   "source": [
    "- Describe the dataset using 5-point statistics. "
   ]
  },
  {
   "cell_type": "code",
   "execution_count": 6,
   "metadata": {},
   "outputs": [
    {
     "data": {
      "text/html": [
       "<div>\n",
       "<style scoped>\n",
       "    .dataframe tbody tr th:only-of-type {\n",
       "        vertical-align: middle;\n",
       "    }\n",
       "\n",
       "    .dataframe tbody tr th {\n",
       "        vertical-align: top;\n",
       "    }\n",
       "\n",
       "    .dataframe thead th {\n",
       "        text-align: right;\n",
       "    }\n",
       "</style>\n",
       "<table border=\"1\" class=\"dataframe\">\n",
       "  <thead>\n",
       "    <tr style=\"text-align: right;\">\n",
       "      <th></th>\n",
       "      <th>piece_count</th>\n",
       "      <th>list_price</th>\n",
       "      <th>num_reviews</th>\n",
       "      <th>play_star_rating</th>\n",
       "      <th>star_rating</th>\n",
       "      <th>val_star_rating</th>\n",
       "      <th>ages_10+</th>\n",
       "      <th>ages_10-14</th>\n",
       "      <th>ages_10-16</th>\n",
       "      <th>ages_10-21</th>\n",
       "      <th>...</th>\n",
       "      <th>country_NZ</th>\n",
       "      <th>country_PL</th>\n",
       "      <th>country_PT</th>\n",
       "      <th>country_US</th>\n",
       "      <th>review_difficulty_Average</th>\n",
       "      <th>review_difficulty_Challenging</th>\n",
       "      <th>review_difficulty_Easy</th>\n",
       "      <th>review_difficulty_Very Challenging</th>\n",
       "      <th>review_difficulty_Very Easy</th>\n",
       "      <th>review_difficulty_unknown</th>\n",
       "    </tr>\n",
       "  </thead>\n",
       "  <tbody>\n",
       "    <tr>\n",
       "      <th>count</th>\n",
       "      <td>1.087000e+04</td>\n",
       "      <td>10870.000000</td>\n",
       "      <td>1.087000e+04</td>\n",
       "      <td>1.087000e+04</td>\n",
       "      <td>1.087000e+04</td>\n",
       "      <td>1.087000e+04</td>\n",
       "      <td>10870.000000</td>\n",
       "      <td>10870.000000</td>\n",
       "      <td>10870.000000</td>\n",
       "      <td>10870.000000</td>\n",
       "      <td>...</td>\n",
       "      <td>10870.000000</td>\n",
       "      <td>10870.000000</td>\n",
       "      <td>10870.000000</td>\n",
       "      <td>10870.000000</td>\n",
       "      <td>10870.000000</td>\n",
       "      <td>10870.000000</td>\n",
       "      <td>10870.000000</td>\n",
       "      <td>10870.000000</td>\n",
       "      <td>10870.000000</td>\n",
       "      <td>10870.000000</td>\n",
       "    </tr>\n",
       "    <tr>\n",
       "      <th>mean</th>\n",
       "      <td>2.287856e-17</td>\n",
       "      <td>67.309137</td>\n",
       "      <td>1.340030e-17</td>\n",
       "      <td>3.505388e-14</td>\n",
       "      <td>2.523956e-13</td>\n",
       "      <td>-1.584433e-13</td>\n",
       "      <td>0.049126</td>\n",
       "      <td>0.001932</td>\n",
       "      <td>0.013615</td>\n",
       "      <td>0.016927</td>\n",
       "      <td>...</td>\n",
       "      <td>0.046274</td>\n",
       "      <td>0.043330</td>\n",
       "      <td>0.044618</td>\n",
       "      <td>0.066421</td>\n",
       "      <td>0.308832</td>\n",
       "      <td>0.091536</td>\n",
       "      <td>0.351978</td>\n",
       "      <td>0.001932</td>\n",
       "      <td>0.083257</td>\n",
       "      <td>0.162466</td>\n",
       "    </tr>\n",
       "    <tr>\n",
       "      <th>std</th>\n",
       "      <td>1.000000e+00</td>\n",
       "      <td>94.669414</td>\n",
       "      <td>1.000000e+00</td>\n",
       "      <td>1.000000e+00</td>\n",
       "      <td>1.000000e+00</td>\n",
       "      <td>1.000000e+00</td>\n",
       "      <td>0.216141</td>\n",
       "      <td>0.043913</td>\n",
       "      <td>0.115894</td>\n",
       "      <td>0.129005</td>\n",
       "      <td>...</td>\n",
       "      <td>0.210088</td>\n",
       "      <td>0.203609</td>\n",
       "      <td>0.206474</td>\n",
       "      <td>0.249029</td>\n",
       "      <td>0.462033</td>\n",
       "      <td>0.288384</td>\n",
       "      <td>0.477609</td>\n",
       "      <td>0.043913</td>\n",
       "      <td>0.276282</td>\n",
       "      <td>0.368894</td>\n",
       "    </tr>\n",
       "    <tr>\n",
       "      <th>min</th>\n",
       "      <td>-6.050659e-01</td>\n",
       "      <td>2.272400</td>\n",
       "      <td>-4.264402e-01</td>\n",
       "      <td>-5.883334e+00</td>\n",
       "      <td>-5.641909e+00</td>\n",
       "      <td>-5.193413e+00</td>\n",
       "      <td>0.000000</td>\n",
       "      <td>0.000000</td>\n",
       "      <td>0.000000</td>\n",
       "      <td>0.000000</td>\n",
       "      <td>...</td>\n",
       "      <td>0.000000</td>\n",
       "      <td>0.000000</td>\n",
       "      <td>0.000000</td>\n",
       "      <td>0.000000</td>\n",
       "      <td>0.000000</td>\n",
       "      <td>0.000000</td>\n",
       "      <td>0.000000</td>\n",
       "      <td>0.000000</td>\n",
       "      <td>0.000000</td>\n",
       "      <td>0.000000</td>\n",
       "    </tr>\n",
       "    <tr>\n",
       "      <th>25%</th>\n",
       "      <td>-4.895715e-01</td>\n",
       "      <td>21.899000</td>\n",
       "      <td>-3.705846e-01</td>\n",
       "      <td>-4.810100e-01</td>\n",
       "      <td>-4.602216e-01</td>\n",
       "      <td>-3.650101e-01</td>\n",
       "      <td>0.000000</td>\n",
       "      <td>0.000000</td>\n",
       "      <td>0.000000</td>\n",
       "      <td>0.000000</td>\n",
       "      <td>...</td>\n",
       "      <td>0.000000</td>\n",
       "      <td>0.000000</td>\n",
       "      <td>0.000000</td>\n",
       "      <td>0.000000</td>\n",
       "      <td>0.000000</td>\n",
       "      <td>0.000000</td>\n",
       "      <td>0.000000</td>\n",
       "      <td>0.000000</td>\n",
       "      <td>0.000000</td>\n",
       "      <td>0.000000</td>\n",
       "    </tr>\n",
       "    <tr>\n",
       "      <th>50%</th>\n",
       "      <td>-3.379852e-01</td>\n",
       "      <td>36.587800</td>\n",
       "      <td>-2.868011e-01</td>\n",
       "      <td>2.160641e-01</td>\n",
       "      <td>1.615809e-01</td>\n",
       "      <td>1.178302e-01</td>\n",
       "      <td>0.000000</td>\n",
       "      <td>0.000000</td>\n",
       "      <td>0.000000</td>\n",
       "      <td>0.000000</td>\n",
       "      <td>...</td>\n",
       "      <td>0.000000</td>\n",
       "      <td>0.000000</td>\n",
       "      <td>0.000000</td>\n",
       "      <td>0.000000</td>\n",
       "      <td>0.000000</td>\n",
       "      <td>0.000000</td>\n",
       "      <td>0.000000</td>\n",
       "      <td>0.000000</td>\n",
       "      <td>0.000000</td>\n",
       "      <td>0.000000</td>\n",
       "    </tr>\n",
       "    <tr>\n",
       "      <th>75%</th>\n",
       "      <td>6.263593e-02</td>\n",
       "      <td>73.187800</td>\n",
       "      <td>-1.192341e-01</td>\n",
       "      <td>5.646012e-01</td>\n",
       "      <td>7.833834e-01</td>\n",
       "      <td>6.006705e-01</td>\n",
       "      <td>0.000000</td>\n",
       "      <td>0.000000</td>\n",
       "      <td>0.000000</td>\n",
       "      <td>0.000000</td>\n",
       "      <td>...</td>\n",
       "      <td>0.000000</td>\n",
       "      <td>0.000000</td>\n",
       "      <td>0.000000</td>\n",
       "      <td>0.000000</td>\n",
       "      <td>1.000000</td>\n",
       "      <td>0.000000</td>\n",
       "      <td>1.000000</td>\n",
       "      <td>0.000000</td>\n",
       "      <td>0.000000</td>\n",
       "      <td>0.000000</td>\n",
       "    </tr>\n",
       "    <tr>\n",
       "      <th>max</th>\n",
       "      <td>8.466055e+00</td>\n",
       "      <td>1104.870000</td>\n",
       "      <td>9.795146e+00</td>\n",
       "      <td>1.087407e+00</td>\n",
       "      <td>9.906510e-01</td>\n",
       "      <td>1.244458e+00</td>\n",
       "      <td>1.000000</td>\n",
       "      <td>1.000000</td>\n",
       "      <td>1.000000</td>\n",
       "      <td>1.000000</td>\n",
       "      <td>...</td>\n",
       "      <td>1.000000</td>\n",
       "      <td>1.000000</td>\n",
       "      <td>1.000000</td>\n",
       "      <td>1.000000</td>\n",
       "      <td>1.000000</td>\n",
       "      <td>1.000000</td>\n",
       "      <td>1.000000</td>\n",
       "      <td>1.000000</td>\n",
       "      <td>1.000000</td>\n",
       "      <td>1.000000</td>\n",
       "    </tr>\n",
       "  </tbody>\n",
       "</table>\n",
       "<p>8 rows × 103 columns</p>\n",
       "</div>"
      ],
      "text/plain": [
       "        piece_count    list_price   num_reviews  play_star_rating  \\\n",
       "count  1.087000e+04  10870.000000  1.087000e+04      1.087000e+04   \n",
       "mean   2.287856e-17     67.309137  1.340030e-17      3.505388e-14   \n",
       "std    1.000000e+00     94.669414  1.000000e+00      1.000000e+00   \n",
       "min   -6.050659e-01      2.272400 -4.264402e-01     -5.883334e+00   \n",
       "25%   -4.895715e-01     21.899000 -3.705846e-01     -4.810100e-01   \n",
       "50%   -3.379852e-01     36.587800 -2.868011e-01      2.160641e-01   \n",
       "75%    6.263593e-02     73.187800 -1.192341e-01      5.646012e-01   \n",
       "max    8.466055e+00   1104.870000  9.795146e+00      1.087407e+00   \n",
       "\n",
       "        star_rating  val_star_rating      ages_10+    ages_10-14  \\\n",
       "count  1.087000e+04     1.087000e+04  10870.000000  10870.000000   \n",
       "mean   2.523956e-13    -1.584433e-13      0.049126      0.001932   \n",
       "std    1.000000e+00     1.000000e+00      0.216141      0.043913   \n",
       "min   -5.641909e+00    -5.193413e+00      0.000000      0.000000   \n",
       "25%   -4.602216e-01    -3.650101e-01      0.000000      0.000000   \n",
       "50%    1.615809e-01     1.178302e-01      0.000000      0.000000   \n",
       "75%    7.833834e-01     6.006705e-01      0.000000      0.000000   \n",
       "max    9.906510e-01     1.244458e+00      1.000000      1.000000   \n",
       "\n",
       "         ages_10-16    ages_10-21            ...                country_NZ  \\\n",
       "count  10870.000000  10870.000000            ...              10870.000000   \n",
       "mean       0.013615      0.016927            ...                  0.046274   \n",
       "std        0.115894      0.129005            ...                  0.210088   \n",
       "min        0.000000      0.000000            ...                  0.000000   \n",
       "25%        0.000000      0.000000            ...                  0.000000   \n",
       "50%        0.000000      0.000000            ...                  0.000000   \n",
       "75%        0.000000      0.000000            ...                  0.000000   \n",
       "max        1.000000      1.000000            ...                  1.000000   \n",
       "\n",
       "         country_PL    country_PT    country_US  review_difficulty_Average  \\\n",
       "count  10870.000000  10870.000000  10870.000000               10870.000000   \n",
       "mean       0.043330      0.044618      0.066421                   0.308832   \n",
       "std        0.203609      0.206474      0.249029                   0.462033   \n",
       "min        0.000000      0.000000      0.000000                   0.000000   \n",
       "25%        0.000000      0.000000      0.000000                   0.000000   \n",
       "50%        0.000000      0.000000      0.000000                   0.000000   \n",
       "75%        0.000000      0.000000      0.000000                   1.000000   \n",
       "max        1.000000      1.000000      1.000000                   1.000000   \n",
       "\n",
       "       review_difficulty_Challenging  review_difficulty_Easy  \\\n",
       "count                   10870.000000            10870.000000   \n",
       "mean                        0.091536                0.351978   \n",
       "std                         0.288384                0.477609   \n",
       "min                         0.000000                0.000000   \n",
       "25%                         0.000000                0.000000   \n",
       "50%                         0.000000                0.000000   \n",
       "75%                         0.000000                1.000000   \n",
       "max                         1.000000                1.000000   \n",
       "\n",
       "       review_difficulty_Very Challenging  review_difficulty_Very Easy  \\\n",
       "count                        10870.000000                 10870.000000   \n",
       "mean                             0.001932                     0.083257   \n",
       "std                              0.043913                     0.276282   \n",
       "min                              0.000000                     0.000000   \n",
       "25%                              0.000000                     0.000000   \n",
       "50%                              0.000000                     0.000000   \n",
       "75%                              0.000000                     0.000000   \n",
       "max                              1.000000                     1.000000   \n",
       "\n",
       "       review_difficulty_unknown  \n",
       "count               10870.000000  \n",
       "mean                    0.162466  \n",
       "std                     0.368894  \n",
       "min                     0.000000  \n",
       "25%                     0.000000  \n",
       "50%                     0.000000  \n",
       "75%                     0.000000  \n",
       "max                     1.000000  \n",
       "\n",
       "[8 rows x 103 columns]"
      ]
     },
     "execution_count": 6,
     "metadata": {},
     "output_type": "execute_result"
    }
   ],
   "source": [
    "df.describe()"
   ]
  },
  {
   "cell_type": "markdown",
   "metadata": {},
   "source": [
    "- Use pandas to plot histograms for all the numeric variables in the dataset. "
   ]
  },
  {
   "cell_type": "code",
   "execution_count": 33,
   "metadata": {},
   "outputs": [
    {
     "data": {
      "image/png": "[encoded data removed]",
      "text/plain": [
       "<Figure size 432x288 with 1 Axes>"
      ]
     },
     "metadata": {
      "needs_background": "light"
     },
     "output_type": "display_data"
    },
    {
     "data": {
      "image/png": "[encoded data removed]",
      "text/plain": [
       "<Figure size 432x288 with 1 Axes>"
      ]
     },
     "metadata": {
      "needs_background": "light"
     },
     "output_type": "display_data"
    },
    {
     "data": {
      "image/png": "[encoded data removed]",
      "text/plain": [
       "<Figure size 432x288 with 1 Axes>"
      ]
     },
     "metadata": {
      "needs_background": "light"
     },
     "output_type": "display_data"
    },
    {
     "data": {
      "image/png": "[encoded data removed]",
      "text/plain": [
       "<Figure size 432x288 with 1 Axes>"
      ]
     },
     "metadata": {
      "needs_background": "light"
     },
     "output_type": "display_data"
    },
    {
     "data": {
      "image/png": "[encoded data removed]",
      "text/plain": [
       "<Figure size 432x288 with 1 Axes>"
      ]
     },
     "metadata": {
      "needs_background": "light"
     },
     "output_type": "display_data"
    },
    {
     "data": {
      "image/png": "[encoded data removed]",
      "text/plain": [
       "<Figure size 432x288 with 1 Axes>"
      ]
     },
     "metadata": {
      "needs_background": "light"
     },
     "output_type": "display_data"
    }
   ],
   "source": [
    "cols = list(df.iloc[:,:6].columns)\n",
    "for col in cols:\n",
    "    df[col].hist()\n",
    "    plt.xlabel(col)\n",
    "    plt.show()"
   ]
  },
  {
   "cell_type": "markdown",
   "metadata": {},
   "source": [
    "Note how skewed most of these distributions are. While linear regression does not assume that each of the individual predictors are normally distributed, it does assume a linear relationship between the predictors and the target variable (`list_price` in this case). To further investigate if this assumption holds true, you can plot some single variable regression plots of each feature against the target variable using `seaborn`. \n",
    "\n",
    "## Check for Linearity\n",
    "\n",
    "Recall that one assumption in linear regression is that the target variable is linearly related to the input features. As shown in the previous lesson, you can use the `sns.jointplot()` function to investigate whether this relation holds true for the various predictors on hand."
   ]
  },
  {
   "cell_type": "code",
   "execution_count": 18,
   "metadata": {},
   "outputs": [
    {
     "name": "stderr",
     "output_type": "stream",
     "text": [
      "/opt/conda/envs/learn-env/lib/python3.6/site-packages/scipy/stats/stats.py:1713: FutureWarning: Using a non-tuple sequence for multidimensional indexing is deprecated; use `arr[tuple(seq)]` instead of `arr[seq]`. In the future this will be interpreted as an array index, `arr[np.array(seq)]`, which will result either in an error or a different result.\n",
      "  return np.add.reduce(sorted[indexer] * weights, axis=axis) / sumval\n"
     ]
    },
    {
     "data": {
      "image/png": "[encoded data removed]",
      "text/plain": [
       "<Figure size 432x432 with 3 Axes>"
      ]
     },
     "metadata": {
      "needs_background": "light"
     },
     "output_type": "display_data"
    }
   ],
   "source": [
    "sns.jointplot(df[cols[0]], df[cols[1]]);"
   ]
  },
  {
   "cell_type": "code",
   "execution_count": 19,
   "metadata": {},
   "outputs": [
    {
     "name": "stderr",
     "output_type": "stream",
     "text": [
      "/opt/conda/envs/learn-env/lib/python3.6/site-packages/scipy/stats/stats.py:1713: FutureWarning: Using a non-tuple sequence for multidimensional indexing is deprecated; use `arr[tuple(seq)]` instead of `arr[seq]`. In the future this will be interpreted as an array index, `arr[np.array(seq)]`, which will result either in an error or a different result.\n",
      "  return np.add.reduce(sorted[indexer] * weights, axis=axis) / sumval\n"
     ]
    },
    {
     "data": {
      "image/png": "[encoded data removed]",
      "text/plain": [
       "<Figure size 432x432 with 3 Axes>"
      ]
     },
     "metadata": {
      "needs_background": "light"
     },
     "output_type": "display_data"
    }
   ],
   "source": [
    "sns.jointplot(df[cols[2]], df[cols[1]]);"
   ]
  },
  {
   "cell_type": "code",
   "execution_count": 20,
   "metadata": {},
   "outputs": [
    {
     "name": "stderr",
     "output_type": "stream",
     "text": [
      "/opt/conda/envs/learn-env/lib/python3.6/site-packages/scipy/stats/stats.py:1713: FutureWarning: Using a non-tuple sequence for multidimensional indexing is deprecated; use `arr[tuple(seq)]` instead of `arr[seq]`. In the future this will be interpreted as an array index, `arr[np.array(seq)]`, which will result either in an error or a different result.\n",
      "  return np.add.reduce(sorted[indexer] * weights, axis=axis) / sumval\n"
     ]
    },
    {
     "data": {
      "image/png": "[encoded data removed]",
      "text/plain": [
       "<Figure size 432x432 with 3 Axes>"
      ]
     },
     "metadata": {
      "needs_background": "light"
     },
     "output_type": "display_data"
    }
   ],
   "source": [
    "sns.jointplot(df[cols[3]], df[cols[1]]);"
   ]
  },
  {
   "cell_type": "code",
   "execution_count": 21,
   "metadata": {},
   "outputs": [
    {
     "name": "stderr",
     "output_type": "stream",
     "text": [
      "/opt/conda/envs/learn-env/lib/python3.6/site-packages/scipy/stats/stats.py:1713: FutureWarning: Using a non-tuple sequence for multidimensional indexing is deprecated; use `arr[tuple(seq)]` instead of `arr[seq]`. In the future this will be interpreted as an array index, `arr[np.array(seq)]`, which will result either in an error or a different result.\n",
      "  return np.add.reduce(sorted[indexer] * weights, axis=axis) / sumval\n"
     ]
    },
    {
     "data": {
      "image/png": "[encoded data removed]",
      "text/plain": [
       "<Figure size 432x432 with 3 Axes>"
      ]
     },
     "metadata": {
      "needs_background": "light"
     },
     "output_type": "display_data"
    }
   ],
   "source": [
    "sns.jointplot(df[cols[4]], df[cols[1]]);"
   ]
  },
  {
   "cell_type": "code",
   "execution_count": 34,
   "metadata": {},
   "outputs": [
    {
     "name": "stderr",
     "output_type": "stream",
     "text": [
      "/opt/conda/envs/learn-env/lib/python3.6/site-packages/scipy/stats/stats.py:1713: FutureWarning: Using a non-tuple sequence for multidimensional indexing is deprecated; use `arr[tuple(seq)]` instead of `arr[seq]`. In the future this will be interpreted as an array index, `arr[np.array(seq)]`, which will result either in an error or a different result.\n",
      "  return np.add.reduce(sorted[indexer] * weights, axis=axis) / sumval\n"
     ]
    },
    {
     "data": {
      "image/png": "[encoded data removed]",
      "text/plain": [
       "<Figure size 432x432 with 3 Axes>"
      ]
     },
     "metadata": {
      "needs_background": "light"
     },
     "output_type": "display_data"
    }
   ],
   "source": [
    "sns.jointplot(df[cols[5]], df[cols[1]]);"
   ]
  },
  {
   "cell_type": "markdown",
   "metadata": {},
   "source": [
    "## Comments\n",
    "\n",
    "Well, at first look it appears that the previous efforts in order to fill in the null review values proved of little value. Perhaps this was due to imputing the mean, but as it currently stands, each of the rating features seems to have little to no predictive power for the upcoming model.\n",
    "\n",
    "## Checking for Multicollinearity\n",
    "\n",
    "It's also important to make note of whether your predictive features will result in multicollinearity in the resulting model. While definitive checks for multicollinearity require analyzing the resulting model, predictors with overly high pairwise-correlation (r > .65) are almost certain to produce multicollinearity in a model. With that, take a minute to generate the pairwise (pearson) correlation coefficients of your predictive features and visualize these coefficients as a heatmap."
   ]
  },
  {
   "cell_type": "code",
   "execution_count": 29,
   "metadata": {},
   "outputs": [
    {
     "data": {
      "text/html": [
       "<div>\n",
       "<style scoped>\n",
       "    .dataframe tbody tr th:only-of-type {\n",
       "        vertical-align: middle;\n",
       "    }\n",
       "\n",
       "    .dataframe tbody tr th {\n",
       "        vertical-align: top;\n",
       "    }\n",
       "\n",
       "    .dataframe thead th {\n",
       "        text-align: right;\n",
       "    }\n",
       "</style>\n",
       "<table border=\"1\" class=\"dataframe\">\n",
       "  <thead>\n",
       "    <tr style=\"text-align: right;\">\n",
       "      <th></th>\n",
       "      <th>piece_count</th>\n",
       "      <th>list_price</th>\n",
       "      <th>num_reviews</th>\n",
       "      <th>play_star_rating</th>\n",
       "      <th>star_rating</th>\n",
       "    </tr>\n",
       "  </thead>\n",
       "  <tbody>\n",
       "    <tr>\n",
       "      <th>piece_count</th>\n",
       "      <td>1.000000</td>\n",
       "      <td>0.865094</td>\n",
       "      <td>0.548783</td>\n",
       "      <td>-0.023281</td>\n",
       "      <td>0.055481</td>\n",
       "    </tr>\n",
       "    <tr>\n",
       "      <th>list_price</th>\n",
       "      <td>0.865094</td>\n",
       "      <td>1.000000</td>\n",
       "      <td>0.445157</td>\n",
       "      <td>-0.013385</td>\n",
       "      <td>-0.015246</td>\n",
       "    </tr>\n",
       "    <tr>\n",
       "      <th>num_reviews</th>\n",
       "      <td>0.548783</td>\n",
       "      <td>0.445157</td>\n",
       "      <td>1.000000</td>\n",
       "      <td>-0.070892</td>\n",
       "      <td>-0.002466</td>\n",
       "    </tr>\n",
       "    <tr>\n",
       "      <th>play_star_rating</th>\n",
       "      <td>-0.023281</td>\n",
       "      <td>-0.013385</td>\n",
       "      <td>-0.070892</td>\n",
       "      <td>1.000000</td>\n",
       "      <td>0.619044</td>\n",
       "    </tr>\n",
       "    <tr>\n",
       "      <th>star_rating</th>\n",
       "      <td>0.055481</td>\n",
       "      <td>-0.015246</td>\n",
       "      <td>-0.002466</td>\n",
       "      <td>0.619044</td>\n",
       "      <td>1.000000</td>\n",
       "    </tr>\n",
       "  </tbody>\n",
       "</table>\n",
       "</div>"
      ],
      "text/plain": [
       "                  piece_count  list_price  num_reviews  play_star_rating  \\\n",
       "piece_count          1.000000    0.865094     0.548783         -0.023281   \n",
       "list_price           0.865094    1.000000     0.445157         -0.013385   \n",
       "num_reviews          0.548783    0.445157     1.000000         -0.070892   \n",
       "play_star_rating    -0.023281   -0.013385    -0.070892          1.000000   \n",
       "star_rating          0.055481   -0.015246    -0.002466          0.619044   \n",
       "\n",
       "                  star_rating  \n",
       "piece_count          0.055481  \n",
       "list_price          -0.015246  \n",
       "num_reviews         -0.002466  \n",
       "play_star_rating     0.619044  \n",
       "star_rating          1.000000  "
      ]
     },
     "execution_count": 29,
     "metadata": {},
     "output_type": "execute_result"
    }
   ],
   "source": [
    "df[cols].corr()"
   ]
  },
  {
   "cell_type": "code",
   "execution_count": 32,
   "metadata": {},
   "outputs": [
    {
     "data": {
      "text/plain": [
       "<matplotlib.axes._subplots.AxesSubplot at 0x7f702473b400>"
      ]
     },
     "execution_count": 32,
     "metadata": {},
     "output_type": "execute_result"
    },
    {
     "data": {
      "image/png": "[encoded data removed]",
      "text/plain": [
       "<Figure size 432x288 with 2 Axes>"
      ]
     },
     "metadata": {
      "needs_background": "light"
     },
     "output_type": "display_data"
    }
   ],
   "source": [
    "sns.heatmap(df[cols].corr(), annot=True)"
   ]
  },
  {
   "cell_type": "markdown",
   "metadata": {},
   "source": [
    "> Comments: The rating features show little promise for adding predictive power towards the `list_price`. This diminishes worry concerning their high correlation. That said, the two most promising predictors: `piece_count` and `num_reviews` also display fairly high correlation. Further analysis of an initial model will clearly be warranted.\n",
    "\n",
    "## Further Resources\n",
    "\n",
    "Have a look at following resources on how to deal with complex datasets that don't meet our initial expectations:  \n",
    "\n",
    "- [What to Do When Bad Data Thwarts Machine Learning Success](https://towardsdatascience.com/what-to-do-when-bad-data-thwarts-machine-learning-success-fb82249aae8b)\n",
    "\n",
    "- [Practical advice for analysis of large, complex data sets ](http://www.unofficialgoogledatascience.com/2016/10/practical-advice-for-analysis-of-large.html)\n",
    "\n",
    "- [Data Cleaning Challenge: Scale and Normalize Data](https://www.kaggle.com/rtatman/data-cleaning-challenge-scale-and-normalize-data)\n",
    "\n",
    "## Summary \n",
    "\n",
    "In this lesson you performed some initial EDA to check for regression assumptions. In the upcoming lessons, you'll continue to carry out a standard Data Science process and begin to fit and refine an initial model."
   ]
  }
 ],
 "metadata": {
  "kernelspec": {
   "display_name": "Python 3",
   "language": "python",
   "name": "python3"
  },
  "language_info": {
   "codemirror_mode": {
    "name": "ipython",
    "version": 3
   },
   "file_extension": ".py",
   "mimetype": "text/x-python",
   "name": "python",
   "nbconvert_exporter": "python",
   "pygments_lexer": "ipython3",
   "version": "3.6.6"
  }
 },
 "nbformat": 4,
 "nbformat_minor": 2
}
